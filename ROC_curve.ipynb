{
 "cells": [
  {
   "cell_type": "code",
   "execution_count": 89,
   "metadata": {},
   "outputs": [
    {
     "name": "stdout",
     "output_type": "stream",
     "text": [
      "41592_2017_BFnmeth4184_MOESM263_ESM.zip ROC_LLT_30.tsv\r\n",
      "Accuracy.tsv                            ROC_LLT_40.tsv\r\n",
      "Accuracy_range_LLT_20.tsv               ROC_curve.html\r\n",
      "Accuracy_range_LLT_20_50000.tsv         ROC_curve.ipynb\r\n",
      "Accuracy_range_LLT_20_method2.tsv       accuracy.png\r\n",
      "Accuracy_range_LLT_20_method2_50000.tsv accuracy_method2.png\r\n",
      "Accuracy_range_LLT_30.tsv               ll_distribution.png\r\n",
      "Accuracy_range_LLT_30_50000.tsv         log_likelihood_distrib_test.png\r\n",
      "Accuracy_range_LLT_30_method2.tsv       \u001b[34mnative\u001b[m\u001b[m\r\n",
      "Accuracy_range_LLT_30_method2_50000.tsv \u001b[34mneg_ctrl\u001b[m\u001b[m\r\n",
      "Accuracy_range_LLT_40.tsv               neg_ctrl_ll.png\r\n",
      "Accuracy_range_LLT_40_50000.tsv         \u001b[34mpos_ctrl\u001b[m\u001b[m\r\n",
      "Accuracy_range_LLT_40_method2.tsv       pos_ctrl_ll.png\r\n",
      "Accuracy_range_LLT_40_method2_50000.tsv roc_40ll.png\r\n",
      "\u001b[34mCode\u001b[m\u001b[m                                    roc_40ll_good.png\r\n",
      "ROC.tsv                                 roc_test.png\r\n",
      "ROC_LLT_20.tsv\r\n"
     ]
    }
   ],
   "source": [
    "import pandas as pd\n",
    "import matplotlib.pyplot as plt\n",
    "%matplotlib inline\n",
    "import numpy as np\n",
    "!ls"
   ]
  },
  {
   "cell_type": "code",
   "execution_count": 90,
   "metadata": {},
   "outputs": [],
   "source": [
    "#define function to call sites\n",
    "def calls(llr, llt, sample_type, fp, tn, tp, fn):\n",
    "    if llr > llt and sample_type == 'neg_ctrl':\n",
    "        fp += 1\n",
    "    elif llr < llt and sample_type == 'neg_ctrl':\n",
    "        tn += 1\n",
    "    elif llr > llt and sample_type == 'pos_ctrl':\n",
    "        tp += 1\n",
    "    elif llr < llt and sample_type == 'pos_ctrl':\n",
    "        fn += 1\n",
    "    return fp,tn,tp, fn"
   ]
  },
  {
   "cell_type": "code",
   "execution_count": 91,
   "metadata": {},
   "outputs": [],
   "source": [
    "#list control files\n",
    "neg_ctrl = !ls neg_ctrl/*.txt\n",
    "pos_ctrl = !ls pos_ctrl/*.txt"
   ]
  },
  {
   "cell_type": "code",
   "execution_count": 61,
   "metadata": {},
   "outputs": [
    {
     "data": {
      "image/png": "[encoded data removed]",
      "text/plain": [
       "<Figure size 576x720 with 3 Axes>"
      ]
     },
     "metadata": {
      "needs_background": "light"
     },
     "output_type": "display_data"
    }
   ],
   "source": [
    "#open files and make random drawing from positive and negative control\n",
    "neg_exp1 = neg_ctrl[0]\n",
    "f = pd.read_csv(neg_exp1,sep='\\t', header=None)\n",
    "f1 = f.sample(n = 50000)\n",
    "f1.insert(1,'Label','neg_ctrl')\n",
    "pos_exp1 = pos_ctrl[0]\n",
    "f = pd.read_csv(pos_exp1,sep='\\t', header=None)\n",
    "f2 = f.sample(n = 50000)\n",
    "f2.insert(1,'Label','pos_ctrl')\n",
    "df_merge_exp1 = pd.concat([f1,f2],axis=0)\n",
    "neg_exp3 = neg_ctrl[1]\n",
    "f = pd.read_csv(neg_exp3,sep='\\t', header=None)\n",
    "f1 = f.sample(n = 50000)\n",
    "f1.insert(1,'Label','neg_ctrl')\n",
    "pos_exp3 = pos_ctrl[1]\n",
    "f = pd.read_csv(pos_exp3,sep='\\t', header=None)\n",
    "f2 = f.sample(n = 50000)\n",
    "f2.insert(1,'Label','pos_ctrl')\n",
    "df_merge_exp3 = pd.concat([f1,f2],axis=0)\n",
    "neg_exp5 = neg_ctrl[2]\n",
    "f = pd.read_csv(neg_exp5,sep='\\t', header=None)\n",
    "f1 = f.sample(n = 50000)\n",
    "f1.insert(1,'Label','neg_ctrl')\n",
    "pos_exp5 = pos_ctrl[2]\n",
    "f = pd.read_csv(pos_exp5,sep='\\t', header=None)\n",
    "f2 = f.sample(n = 50000)\n",
    "f2.insert(1,'Label','pos_ctrl')\n",
    "df_merge_exp5 = pd.concat([f1,f2],axis=0)\n",
    "list_files = [df_merge_exp1,df_merge_exp3,df_merge_exp5]\n",
    "titles = ['Experiment 1','Experiment 3','Experiment 5']\n",
    "fig, axes = plt.subplots(nrows=3, ncols=1, figsize=(8, 10))\n",
    "fig.tight_layout()\n",
    "c = 0\n",
    "while c < len(list_files):\n",
    "    axes[c].hist(list_files[c][5].values,bins=50)\n",
    "    axes[c].set_ylabel(\"Counts\")\n",
    "    #axes[c].set_xlabel(\"Log-likelihood\")\n",
    "    axes[c].set_xlim(-80,80)\n",
    "    axes[c].set_title(titles[c])\n",
    "    c += 1"
   ]
  },
  {
   "cell_type": "code",
   "execution_count": null,
   "metadata": {},
   "outputs": [],
   "source": []
  },
  {
   "cell_type": "code",
   "execution_count": 92,
   "metadata": {},
   "outputs": [],
   "source": [
    "#test different ranges of log-likelihood on exp1\n",
    "bv = (df_merge_exp5[5]> -40) & (df_merge_exp5[5] < 40)\n",
    "bv_1 = (df_merge_exp5[5]> -30) & (df_merge_exp5[5] < 30)\n",
    "bv_2 = (df_merge_exp5[5]> -20) & (df_merge_exp5[5] < 20)"
   ]
  },
  {
   "cell_type": "code",
   "execution_count": 93,
   "metadata": {},
   "outputs": [],
   "source": [
    "#remove outliers\n",
    "df_merge_exp5_0 = df_merge_exp5[bv]\n",
    "df_merge_exp5_1 = df_merge_exp5[bv_1]\n",
    "df_merge_exp5_2 = df_merge_exp5[bv_2]"
   ]
  },
  {
   "cell_type": "code",
   "execution_count": 94,
   "metadata": {},
   "outputs": [
    {
     "name": "stdout",
     "output_type": "stream",
     "text": [
      "(99852, 12)\n",
      "(99263, 12)\n",
      "(96542, 12)\n"
     ]
    }
   ],
   "source": [
    "#check dimension of the data frames\n",
    "print(df_merge_exp5_0.shape)\n",
    "print(df_merge_exp5_1.shape)\n",
    "print(df_merge_exp5_2.shape)"
   ]
  },
  {
   "cell_type": "code",
   "execution_count": null,
   "metadata": {},
   "outputs": [],
   "source": [
    "#precision = float(tp) / (tp + fp)\n",
    "#true positive rate = float(tp) / (tp + fn)\n",
    "#specificity = float(tn) / (tn + fp)\n",
    "#false positive rate = float(fp) / fp + tn\n",
    "#If LL(NC) > threshold → FP\n",
    "#If LL (NC) < threshold → TN\n",
    "#If LL (PC) > threshold → TP\n",
    "#If LL (PC < threshold → FN"
   ]
  },
  {
   "cell_type": "code",
   "execution_count": 95,
   "metadata": {},
   "outputs": [
    {
     "name": "stdout",
     "output_type": "stream",
     "text": [
      "0.5002904298361576 -40\n",
      "0.5003104594800305 -39.75\n",
      "0.5003955894282481 -39.5\n",
      "0.5004606818090774 -39.25\n",
      "0.5005508152065057 -39.0\n",
      "0.5005908744942515 -38.75\n",
      "0.5006209189600609 -38.5\n",
      "0.5007060520175061 -38.25\n",
      "0.5007561266286767 -38.0\n",
      "0.5008312302207267 -37.75\n",
      "0.5009013339742819 -37.5\n",
      "0.501031526659456 -37.25\n",
      "0.5011016304130113 -37.0\n",
      "0.5011517045226936 -36.75\n",
      "0.5011867682847443 -36.5\n",
      "0.5012618675639947 -36.25\n",
      "0.5013720306052959 -36.0\n",
      "0.5014120898930418 -35.75\n",
      "0.5014922084685335 -35.5\n",
      "0.501562343515273 -35.25\n",
      "0.5016824900853263 -35.0\n",
      "0.501762608660818 -34.75\n",
      "0.5018827865240556 -34.5\n",
      "0.5019729199214839 -34.25\n",
      "0.5021131274285944 -34.0\n",
      "0.5021732163602132 -33.75\n",
      "0.5022734101151728 -33.5\n",
      "0.502343468333133 -33.25\n",
      "0.5024436165524977 -33.0\n",
      "0.5025537795937989 -32.75\n",
      "0.5026389320086929 -32.5\n",
      "0.502814164964147 -32.25\n",
      "0.5029293647534827 -32.0\n",
      "0.5029844169370669 -31.75\n",
      "0.5030845651564315 -31.5\n",
      "0.5032548171293515 -31.25\n",
      "0.5034250691022714 -31.0\n",
      "0.5035953210751913 -30.75\n",
      "0.5037505883766813 -30.5\n",
      "0.5040059287745864 -30.25\n",
      "0.5041662493740611 -30.0\n",
      "0.5043364178984898 -29.75\n",
      "0.5044816776997727 -29.5\n",
      "0.5046368625565838 -29.25\n",
      "0.5047670552417578 -29.0\n",
      "0.5049573368585507 -28.75\n",
      "0.50515763329728 -28.5\n",
      "0.5053980971457186 -28.25\n",
      "0.5056484727090635 -28.0\n",
      "0.5058938997886809 -27.75\n",
      "0.5061390858470537 -27.5\n",
      "0.5063945278464913 -27.25\n",
      "0.5065747964467056 -27.0\n",
      "0.5068301085606698 -26.75\n",
      "0.507155661936285 -26.5\n",
      "0.507370908945239 -26.25\n",
      "0.507801546288507 -26.0\n",
      "0.5081722583875814 -25.75\n",
      "0.508442663995994 -25.5\n",
      "0.5088181390271505 -25.25\n",
      "0.50914371557336 -25.0\n",
      "0.5095341104835156 -24.75\n",
      "0.5098296461727975 -24.5\n",
      "0.5102658093463934 -24.25\n",
      "0.5106760140210316 -24.0\n",
      "0.5110815114520636 -23.75\n",
      "0.5115624593135635 -23.5\n",
      "0.5119330188584763 -23.25\n",
      "0.5122681568721709 -23.0\n",
      "0.5127596498607856 -22.75\n",
      "0.5132953418730658 -22.5\n",
      "0.513735740968863 -22.25\n",
      "0.514361829981572 -22.0\n",
      "0.5149927890393398 -21.75\n",
      "0.515628286146358 -21.5\n",
      "0.5164246369554332 -21.25\n",
      "0.5171156735102654 -21.0\n",
      "0.5177822067763679 -20.75\n",
      "0.5185730452984005 -20.5\n",
      "0.5192240282827069 -20.25\n",
      "0.5198798197295944 -20.0\n",
      "0.520766357199371 -19.75\n",
      "0.5214734986579064 -19.5\n",
      "0.5224036054081121 -19.25\n",
      "0.5232853937985739 -19.0\n",
      "0.5241314384720929 -18.75\n",
      "0.5250681035173463 -18.5\n",
      "0.5261898085089336 -18.25\n",
      "0.5272366721083257 -18.0\n",
      "0.5280773968692726 -17.75\n",
      "0.5293599206786384 -17.5\n",
      "0.5307332512043909 -17.25\n",
      "0.5319191554994692 -17.0\n",
      "0.5329500841278744 -16.75\n",
      "0.5343489278166722 -16.5\n",
      "0.5359707546697381 -16.25\n",
      "0.5374784664075959 -16.0\n",
      "0.5391318282886961 -15.75\n",
      "0.5408353365384615 -15.5\n",
      "0.542444515663809 -15.25\n",
      "0.544340057290519 -15.0\n",
      "0.5460709492618633 -14.75\n",
      "0.5477809717450747 -14.5\n",
      "0.5495482862923419 -14.25\n",
      "0.5516830413925027 -14.0\n",
      "0.5535814437945678 -13.75\n",
      "0.5555477654694417 -13.5\n",
      "0.5578346436977315 -13.25\n",
      "0.5601987259104932 -13.0\n",
      "0.5628993810220148 -12.75\n",
      "0.5658479907047558 -12.5\n",
      "0.568811474588834 -12.25\n",
      "0.5717948717948718 -12.0\n",
      "0.5750087644613613 -11.75\n",
      "0.5781597451769938 -11.5\n",
      "0.5814603365384615 -11.25\n",
      "0.5848799591350247 -11.0\n",
      "0.5884579944713754 -10.75\n",
      "0.5919348538117131 -10.5\n",
      "0.596029408818639 -10.25\n",
      "0.6003485856238481 -10.0\n",
      "0.6043311030089347 -9.75\n",
      "0.6088990393765463 -9.5\n",
      "0.6133559036820385 -9.25\n",
      "0.6180510333911057 -9.0\n",
      "0.6231769372545877 -8.75\n",
      "0.6281641607148224 -8.5\n",
      "0.6336305349629333 -8.25\n",
      "0.6395383783133979 -8.0\n",
      "0.6450866473004107 -7.75\n",
      "0.6518154129763957 -7.5\n",
      "0.6580940549421925 -7.25\n",
      "0.6649736531025225 -7.0\n",
      "0.6718728085114909 -6.75\n",
      "0.6792651286726036 -6.5\n",
      "0.6865501177177779 -6.25\n",
      "0.6945073442478408 -6.0\n",
      "0.7023523282840426 -5.75\n",
      "0.7109107303877367 -5.5\n",
      "0.7196814106096278 -5.25\n",
      "0.7288149179851502 -5.0\n",
      "0.7376030780637857 -4.75\n",
      "0.7477083980324781 -4.5\n",
      "0.7572605375503577 -4.25\n",
      "0.7664963430517984 -4.0\n",
      "0.7758404729695877 -3.75\n",
      "0.7854737854737854 -3.5\n",
      "0.7951341222682045 -3.25\n",
      "0.8043632938158277 -3.0\n",
      "0.8128820216838013 -2.75\n",
      "0.8216368409450713 -2.5\n",
      "0.8305127203134237 -2.25\n",
      "0.8388994098255529 -2.0\n",
      "0.8463997274494479 -1.75\n",
      "0.853741871486829 -1.5\n",
      "0.8597567085512736 -1.25\n",
      "0.8661970419656099 -1.0\n",
      "0.8710469357489278 -0.75\n",
      "0.8749611696211157 -0.5\n",
      "0.8781902900946941 -0.25\n",
      "0.8804073287094576 0.0\n",
      "0.8797803255030867 0.25\n",
      "0.8788801827618685 0.5\n",
      "0.8756850996463033 0.75\n",
      "0.8716859381575519 1.0\n",
      "0.8663026052104208 1.25\n",
      "0.8602062186238063 1.5\n",
      "0.8520388738603346 1.75\n",
      "0.8441329418955342 2.0\n",
      "0.8353689694905065 2.25\n",
      "0.8258782741137097 2.5\n",
      "0.8160884987675103 2.75\n",
      "0.8054342163266942 3.0\n",
      "0.7948779608031742 3.25\n",
      "0.7847545763323214 3.5\n",
      "0.7744960525788482 3.75\n",
      "0.7641271240782302 4.0\n",
      "0.7531284753879911 4.25\n",
      "0.7422634969294423 4.5\n",
      "0.7314177511947342 4.75\n",
      "0.7207498772581986 5.0\n",
      "0.7104830792041515 5.25\n",
      "0.70127229012222 5.5\n",
      "0.6916634105777805 5.75\n",
      "0.6827215899983972 6.0\n",
      "0.674127583684838 6.25\n",
      "0.665912027808108 6.5\n",
      "0.6581014205285408 6.75\n",
      "0.6508389681943401 7.0\n",
      "0.6433508986355166 7.25\n",
      "0.63656308228647 7.5\n",
      "0.6297053108159545 7.75\n",
      "0.6232532980737446 8.0\n",
      "0.6174906085649887 8.25\n",
      "0.6121132600835328 8.5\n",
      "0.6062588277720456 8.75\n",
      "0.6006250563452235 9.0\n",
      "0.5953940778138398 9.25\n",
      "0.5907561004928477 9.5\n",
      "0.5863616330782483 9.75\n",
      "0.5820913461538462 10.0\n",
      "0.5780179494370769 10.25\n",
      "0.574137136675948 10.5\n",
      "0.5704698658813867 10.75\n",
      "0.5668539719743182 11.0\n",
      "0.5633238511158299 11.25\n",
      "0.5602327584480099 11.5\n",
      "0.5574740848314889 11.75\n",
      "0.554498287225305 12.0\n",
      "0.5516125801282051 12.25\n",
      "0.5489602948836091 12.5\n",
      "0.546502543968591 12.75\n",
      "0.5442636085933197 13.0\n",
      "0.5419809100287452 13.25\n",
      "0.5401396247959215 13.5\n",
      "0.5382704673383947 13.75\n",
      "0.5366171227114298 14.0\n",
      "0.5346626872846727 14.25\n",
      "0.53310565164702 14.5\n",
      "0.5314625083876654 14.75\n",
      "0.5301358064257672 15.0\n",
      "0.5285380925197047 15.25\n",
      "0.527082790809479 15.5\n",
      "0.5257633874472964 15.75\n",
      "0.5246622399823734 16.0\n",
      "0.5234160607335296 16.25\n",
      "0.5222033049574362 16.5\n",
      "0.5213023796170179 16.75\n",
      "0.5203861908720342 17.0\n",
      "0.5195040610509659 17.25\n",
      "0.5186780170255383 17.5\n",
      "0.5177970515183078 17.75\n",
      "0.5168601215811559 18.0\n",
      "0.5160443874689528 18.25\n",
      "0.5151779186571723 18.5\n",
      "0.514421632448673 18.75\n",
      "0.513915734444322 19.0\n",
      "0.5133104981671774 19.25\n",
      "0.5127296035895279 19.5\n",
      "0.512073230578173 19.75\n",
      "0.511552444190728 20.0\n",
      "0.5112217203633413 20.25\n",
      "0.5107461191787681 20.5\n",
      "0.5101954971556766 20.75\n",
      "0.5096998407563572 21.0\n",
      "0.5092138207310967 21.25\n",
      "0.5087531296945418 21.5\n",
      "0.5084076956203868 21.75\n",
      "0.5079269697242836 22.0\n",
      "0.5075262140589478 22.25\n",
      "0.5072057365474557 22.5\n",
      "0.5068402603905858 22.75\n",
      "0.5065698547821733 23.0\n",
      "0.506359411929656 23.25\n",
      "0.5061792689033551 23.5\n",
      "0.5058487731597396 23.75\n",
      "0.5055432594565903 24.0\n",
      "0.5051927371783959 24.25\n",
      "0.5049323492003085 24.5\n",
      "0.504706966310139 24.75\n",
      "0.5044566850275413 25.0\n",
      "0.5042313046439194 25.25\n",
      "0.5039559339008512 25.5\n",
      "0.5037405734544471 25.75\n",
      "0.5036353803629372 26.0\n",
      "0.5034601556318915 26.25\n",
      "0.5033249208829067 26.5\n",
      "0.5031597079648676 26.75\n",
      "0.5030144614028763 27.0\n",
      "0.5028442094299563 27.25\n",
      "0.502719051386566 27.5\n",
      "0.5025437647718624 27.75\n",
      "0.5024536313744342 28.0\n",
      "0.5023534831550696 28.25\n",
      "0.5022283201970936 28.5\n",
      "0.502063053318912 28.75\n",
      "0.5019429143715574 29.0\n",
      "0.5018026679485639 29.25\n",
      "0.5016724752633899 29.5\n",
      "0.5015573204074071 29.75\n",
      "0.5015022232904699 30.0\n",
      "0.5014321195369147 30.25\n",
      "0.5013820454272323 30.5\n",
      "0.5012668876626173 30.75\n",
      "0.5011767533625101 31.0\n",
      "0.5011166638291054 31.25\n",
      "0.5010114970155831 31.5\n",
      "0.5009113487962185 31.75\n",
      "0.5008312302207267 32.0\n",
      "0.5008212153987902 32.25\n",
      "0.5007110523574891 32.5\n",
      "0.5006309337819974 32.75\n",
      "0.5005558281839941 33.0\n",
      "0.5005207707406962 33.25\n",
      "0.5004356491171846 33.5\n",
      "0.5003555297393115 33.75\n",
      "0.5003405039458398 34.0\n",
      "0.5002904298361576 34.25\n",
      "0.5002503705484117 34.5\n",
      "0.5001752611390973 34.75\n",
      "0.5001201778632376 35.0\n",
      "0.5000801185754917 35.25\n",
      "0.5000701037535553 35.5\n",
      "0.5000600889316188 35.75\n",
      "0.5000300444658095 36.0\n",
      "0.5 36.25\n",
      "0.4999699555341906 36.5\n",
      "0.49995994071225414 36.75\n",
      "0.49994992589031767 37.0\n",
      "0.49992989624644474 37.25\n",
      "0.49989985178063534 37.5\n",
      "0.4998798221367624 37.75\n",
      "0.49983976284901654 38.0\n",
      "0.4998297480270801 38.25\n",
      "0.49980971838320715 38.5\n",
      "0.49977967391739775 38.75\n",
      "0.4997696590954613 39.0\n",
      "0.49974962945158835 39.25\n",
      "0.4997396146296519 39.5\n",
      "0.4997396146296519 39.75\n",
      "0.4997095701638425 40.0\n"
     ]
    }
   ],
   "source": [
    "#test on dataframe between -40 and 40 log-likelihood\n",
    "fp = 0\n",
    "tn = 0\n",
    "tp = 0\n",
    "fn = 0\n",
    "llt = -40\n",
    "tpr_list = []\n",
    "fpr_list = []\n",
    "llt_list = [-40]\n",
    "accuracy_roc = []\n",
    "while llt <= 40:\n",
    "    for i in df_merge_exp5_0.iterrows():\n",
    "        llr = i[1][5]\n",
    "        sample_type = i[1]['Label']\n",
    "        fp,tn,tp,fn = calls(llr, llt, sample_type, fp,tn,tp,fn)\n",
    "    fpr = float(fp) / (fp + tn)\n",
    "    tpr = float(tp) / (tp + fn)\n",
    "    acc = (float(tp) + float(tn))/(fp + tn + tp + fn)\n",
    "    accuracy_roc.append(acc)\n",
    "    print(acc,llt)\n",
    "    fp = 0\n",
    "    tn = 0\n",
    "    tp = 0\n",
    "    fn = 0\n",
    "    tpr_list.append(tpr)\n",
    "    fpr_list.append(fpr)\n",
    "    llt += 0.25\n",
    "    llt_list.append(llt)"
   ]
  },
  {
   "cell_type": "code",
   "execution_count": 96,
   "metadata": {},
   "outputs": [
    {
     "name": "stdout",
     "output_type": "stream",
     "text": [
      "0.8232390126429862 0\n",
      "0.8323685081045319 0.25\n",
      "0.8399404825167393 0.5\n",
      "0.8463085194737072 0.75\n",
      "0.8520779104209676 1.0\n",
      "0.8570539705950131 1.25\n",
      "0.8617435678850093 1.5\n",
      "0.8650302270985635 1.75\n",
      "0.8684951389497129 2.0\n",
      "0.8711405248113717 2.25\n",
      "0.8733400482413126 2.5\n",
      "0.8753774474306248 2.75\n",
      "0.8775409582036148 3.0\n",
      "0.8789289871944121 3.25\n",
      "0.8806125214563194 3.5\n",
      "0.8822026637588597 3.75\n",
      "0.8832097969706736 4.0\n",
      "0.8844986323303756 4.25\n",
      "0.8857621614151465 4.5\n",
      "0.8866543808484372 4.75\n",
      "0.8880144042470254 5.0\n",
      "0.8886899605351815 5.25\n",
      "0.889466736008321 5.5\n",
      "0.8897367655008941 5.75\n",
      "0.8908024838269976 6.0\n",
      "0.8915678909606172 6.25\n",
      "0.892495734885134 6.5\n",
      "0.8929727624564905 6.75\n",
      "0.8941773436508943 7.0\n",
      "0.8951915455746368 7.25\n",
      "0.895441180511665 7.5\n",
      "0.8959529276693455 7.75\n",
      "0.8966725568300937 8.0\n",
      "0.8971715157934085 8.25\n",
      "0.8971352474990256 8.5\n",
      "0.8975723876042585 8.75\n",
      "0.8975183823529411 9.0\n",
      "0.8969136711844431 9.25\n",
      "0.8974378673222448 9.5\n",
      "0.8982792507320204 9.75\n",
      "0.8985283050422276 10.0\n"
     ]
    }
   ],
   "source": [
    "fp = 0\n",
    "tn = 0\n",
    "tp = 0\n",
    "fn = 0\n",
    "llt = 0\n",
    "llt_accuracy = [0,10]\n",
    "tpr_list_2 = []\n",
    "fpr_list_2 = []\n",
    "llt_list_2 = [0]\n",
    "accuracy_roc_2 = []\n",
    "while llt <= 10:\n",
    "    df_merge_filt = df_merge_exp1_0[abs(df_merge_exp1_0[5])> llt]\n",
    "    for i in df_merge_filt.iterrows():\n",
    "        llr = i[1][5]\n",
    "        sample_type = i[1]['Label']\n",
    "        fp,tn,tp,fn = calls(llr, llt, sample_type, fp,tn,tp,fn)\n",
    "    fpr = float(fp) / (fp + tn)\n",
    "    tpr = float(tp) / (tp + fn)\n",
    "    acc = (float(tp) + float(tn))/(fp + tn + tp + fn)\n",
    "    accuracy_roc_2.append(acc)\n",
    "    print(acc,llt)\n",
    "    fp = 0\n",
    "    tn = 0\n",
    "    tp = 0\n",
    "    fn = 0\n",
    "    tpr_list_2.append(tpr)\n",
    "    fpr_list_2.append(fpr)\n",
    "    llt += 0.25\n",
    "    llt_list_2.append(llt)"
   ]
  },
  {
   "cell_type": "code",
   "execution_count": 97,
   "metadata": {},
   "outputs": [],
   "source": [
    "df_accuracy = pd.concat([pd.Series(accuracy_roc),pd.Series(llt_list)],axis=1)\n",
    "df_accuracy.columns = ['Accuracy','LLT']\n",
    "fpr_list.reverse()\n",
    "tpr_list.reverse()\n",
    "llt_list.reverse()\n",
    "df_roc = pd.concat([pd.Series(fpr_list),pd.Series(tpr_list), pd.Series(llt_list)],axis=1)\n",
    "df_roc.columns = ['FPR','TPR','LLT']\n",
    "df_accuracy.to_csv(\"Accuracy_range_LLT_40_exp3_50000.tsv\",sep='\\t',header=True,index=None)\n",
    "df_roc.to_csv(\"ROC_LLT_40_exp5.tsv\",sep='\\t',header=True,index=None)\n",
    "df_accuracy_method2 = pd.concat([pd.Series(accuracy_roc_2),pd.Series(llt_list_2)],axis=1)\n",
    "df_accuracy_method2.columns = ['Accuracy','LLT']\n",
    "df_accuracy_method2.to_csv(\"Accuracy_range_LLT_40_method2_exp3_50000.tsv\",sep='\\t',header=True,index=None)"
   ]
  },
  {
   "cell_type": "code",
   "execution_count": 98,
   "metadata": {},
   "outputs": [
    {
     "data": {
      "text/plain": [
       "Text(0, 0.5, 'Accuracy')"
      ]
     },
     "execution_count": 98,
     "metadata": {},
     "output_type": "execute_result"
    },
    {
     "data": {
      "image/png": "[encoded data removed]",
      "text/plain": [
       "<Figure size 432x288 with 1 Axes>"
      ]
     },
     "metadata": {
      "needs_background": "light"
     },
     "output_type": "display_data"
    }
   ],
   "source": [
    "#plot accuracy calculated as (TP + TN)/calls where calls are those with abs(llr)> threshold\n",
    "plt.plot(df_accuracy_method2['LLT'],df_accuracy_method2['Accuracy'],)\n",
    "plt.xlabel(\"Log-likelihood ratio (threshold)\")\n",
    "plt.ylabel(\"Accuracy\")"
   ]
  },
  {
   "cell_type": "code",
   "execution_count": 99,
   "metadata": {},
   "outputs": [
    {
     "data": {
      "text/plain": [
       "Text(0, 0.5, 'Accuracy')"
      ]
     },
     "execution_count": 99,
     "metadata": {},
     "output_type": "execute_result"
    },
    {
     "data": {
      "image/png": "[encoded data removed]",
      "text/plain": [
       "<Figure size 432x288 with 1 Axes>"
      ]
     },
     "metadata": {
      "needs_background": "light"
     },
     "output_type": "display_data"
    }
   ],
   "source": [
    "#plot accuracy calculated as (TP + TN)/calls where calls are all 200k sites\n",
    "plt.plot(df_accuracy['LLT'],df_accuracy['Accuracy'],)\n",
    "plt.xlabel(\"Log-likelihood ratio (threshold)\")\n",
    "plt.ylabel(\"Accuracy\")"
   ]
  },
  {
   "cell_type": "code",
   "execution_count": 100,
   "metadata": {},
   "outputs": [
    {
     "data": {
      "text/plain": [
       "0.9370146769215185"
      ]
     },
     "execution_count": 100,
     "metadata": {},
     "output_type": "execute_result"
    }
   ],
   "source": [
    "#calculate AUC on ROC curve obtained changin LLR from -40 to 40 with step 0.25\n",
    "import numpy as np\n",
    "from sklearn import metrics\n",
    "metrics.auc(fpr_list, tpr_list)"
   ]
  },
  {
   "cell_type": "code",
   "execution_count": 101,
   "metadata": {},
   "outputs": [
    {
     "data": {
      "text/plain": [
       "Text(0.5, 1.0, 'ROC curve on 100K random mitochondrial sites. Lt range -40 to 40')"
      ]
     },
     "execution_count": 101,
     "metadata": {},
     "output_type": "execute_result"
    },
    {
     "data": {
      "image/png": "[encoded data removed]",
      "text/plain": [
       "<Figure size 432x288 with 1 Axes>"
      ]
     },
     "metadata": {
      "needs_background": "light"
     },
     "output_type": "display_data"
    }
   ],
   "source": [
    "#plot ROC curve obtained changin LLR from -40 to 40 with step 0.25\n",
    "plt.plot(fpr_list,tpr_list)\n",
    "plt.xlabel(\"False positive rate\")\n",
    "plt.ylabel(\"True positive rate\")\n",
    "plt.title(\"ROC curve on 100K random mitochondrial sites. Lt range -40 to 40\")"
   ]
  },
  {
   "cell_type": "code",
   "execution_count": 102,
   "metadata": {},
   "outputs": [
    {
     "name": "stdout",
     "output_type": "stream",
     "text": [
      "0.5013449120014507 -30\n",
      "0.5015060999566807 -29.75\n",
      "0.5016521931857105 -29.5\n",
      "0.5018083273727371 -29.25\n",
      "0.5019392925863615 -29.0\n",
      "0.5021307032831972 -28.75\n",
      "0.5023321882272347 -28.5\n",
      "0.5025740220227481 -28.25\n",
      "0.5028258832774202 -28.0\n",
      "0.5030727382631472 -27.75\n",
      "0.5033194644530188 -27.5\n",
      "0.5035763937861417 -27.25\n",
      "0.5037577320626222 -27.0\n",
      "0.5040145875099483 -26.75\n",
      "0.5043420442868368 -26.5\n",
      "0.5045585968588497 -26.25\n",
      "0.5049917894885305 -26.0\n",
      "0.5053646447245141 -25.75\n",
      "0.50563665487956 -25.5\n",
      "0.5060143861699341 -25.25\n",
      "0.5063418663926417 -25.0\n",
      "0.5067346342544553 -24.75\n",
      "0.5070318953879631 -24.5\n",
      "0.5074705058585288 -24.25\n",
      "0.5078832572712344 -24.0\n",
      "0.5082911889746328 -23.75\n",
      "0.5087749345154141 -23.5\n",
      "0.5091476929276647 -23.25\n",
      "0.509484903740568 -23.0\n",
      "0.5099791450477045 -22.75\n",
      "0.5105180438856314 -22.5\n",
      "0.5109611122305058 -22.25\n",
      "0.511590888483664 -22.0\n",
      "0.512225591634008 -21.75\n",
      "0.5128649432814169 -21.5\n",
      "0.5136659916785041 -21.25\n",
      "0.5143611287413989 -21.0\n",
      "0.5150315339821475 -20.75\n",
      "0.5158271206931292 -20.5\n",
      "0.5164819665524885 -20.25\n",
      "0.5171416769929781 -20.0\n",
      "0.5180334475115858 -19.75\n",
      "0.5187446476248048 -19.5\n",
      "0.5196804384400722 -19.25\n",
      "0.5205674044671013 -19.0\n",
      "0.521418496876889 -18.75\n",
      "0.5223606927331527 -18.5\n",
      "0.5234890538893199 -18.25\n",
      "0.5245421023998066 -18.0\n",
      "0.5253878702397743 -17.75\n",
      "0.526677950391908 -17.5\n",
      "0.5280593225461946 -17.25\n",
      "0.5292523449227762 -17.0\n",
      "0.5302894447858633 -16.75\n",
      "0.5316964555584661 -16.5\n",
      "0.5333279600225679 -16.25\n",
      "0.5348445922119792 -16.0\n",
      "0.5365077126132207 -15.75\n",
      "0.5382212773674825 -15.5\n",
      "0.5398402160005642 -15.25\n",
      "0.5417468489617442 -15.0\n",
      "0.543488116707134 -14.75\n",
      "0.5452081570144682 -14.5\n",
      "0.5469859853102677 -14.25\n",
      "0.5491335885553092 -14.0\n",
      "0.5510432303367957 -13.75\n",
      "0.5530210673732784 -13.5\n",
      "0.5553215926493109 -13.25\n",
      "0.557699477062279 -13.0\n",
      "0.5604163098344634 -12.75\n",
      "0.563382268481667 -12.5\n",
      "0.5663633890517789 -12.25\n",
      "0.5693645404076533 -12.0\n",
      "0.572597384277452 -11.75\n",
      "0.5757670411607637 -11.5\n",
      "0.5790873643590493 -11.25\n",
      "0.5825273042356829 -11.0\n",
      "0.5861266434940305 -10.75\n",
      "0.5896239722714816 -10.5\n",
      "0.5937427578215527 -10.25\n",
      "0.5980875225456708 -10.0\n",
      "0.6020937660584199 -9.75\n",
      "0.6066887003486428 -9.5\n",
      "0.6111721261096054 -9.25\n",
      "0.615894707139114 -9.0\n",
      "0.6210513587860101 -8.75\n",
      "0.626068117694478 -8.5\n",
      "0.6315667482943839 -8.25\n",
      "0.6375096993943546 -8.0\n",
      "0.64309106115416 -7.75\n",
      "0.6498594075970289 -7.5\n",
      "0.6561753590325019 -7.25\n",
      "0.663095945905092 -7.0\n",
      "0.6700359773856434 -6.75\n",
      "0.6774723392248937 -6.5\n",
      "0.684800354745732 -6.25\n",
      "0.6928046604916496 -6.0\n",
      "0.7006963830409062 -5.75\n",
      "0.7093054897652714 -5.5\n",
      "0.7181283131437325 -5.25\n",
      "0.7273157947787522 -5.0\n",
      "0.7361561876348096 -4.75\n",
      "0.746321751048049 -4.5\n",
      "0.7559301188544009 -4.25\n",
      "0.7652210721520646 -4.0\n",
      "0.7746204866641131 -3.75\n",
      "0.7843109583379535 -3.5\n",
      "0.7940287073623095 -3.25\n",
      "0.8033125667856207 -3.0\n",
      "0.8118819865133203 -2.75\n",
      "0.8206888210214387 -2.5\n",
      "0.8296173849937507 -2.25\n",
      "0.8380538644518808 -2.0\n",
      "0.8455986856031207 -1.75\n",
      "0.8529844578386114 -1.5\n",
      "0.8590349665856928 -1.25\n",
      "0.8655135222312942 -1.0\n",
      "0.8703922102271009 -0.75\n",
      "0.8743296641264465 -0.5\n",
      "0.8775779690744512 -0.25\n",
      "0.8798080316183217 0.0\n",
      "0.8791773778920309 0.25\n",
      "0.8782720006450767 0.5\n",
      "0.8750579555304695 0.75\n",
      "0.8710350458105288 1.0\n",
      "0.8656197397466007 1.25\n",
      "0.8594871381340214 1.5\n",
      "0.851271404239022 1.75\n",
      "0.8433184832785695 2.0\n",
      "0.8345024995968392 2.25\n",
      "0.824955397191787 2.5\n",
      "0.8151075003275913 2.75\n",
      "0.8043901111637423 3.0\n",
      "0.7937711031598045 3.25\n",
      "0.783587655465742 3.5\n",
      "0.773268294649426 3.75\n",
      "0.7628377629284714 4.0\n",
      "0.7517738359201774 4.25\n",
      "0.7408445026705633 4.5\n",
      "0.729934290091107 4.75\n",
      "0.7192029350696474 5.0\n",
      "0.7088754295619224 5.25\n",
      "0.6996100009069747 5.5\n",
      "0.689943965169717 5.75\n",
      "0.6809492618531768 6.0\n",
      "0.6723039709735941 6.25\n",
      "0.6640399846832866 6.5\n",
      "0.65618292301956 6.75\n",
      "0.6488774235156597 7.0\n",
      "0.6413447681625332 7.25\n",
      "0.6345167434220471 7.5\n",
      "0.6276185198246763 7.75\n",
      "0.6211281513875174 8.0\n",
      "0.6153311298319158 8.25\n",
      "0.6099222181920767 8.5\n",
      "0.6040327293980129 8.75\n",
      "0.5983656113339111 9.0\n",
      "0.5931035177702315 9.25\n",
      "0.5884380132810689 9.5\n",
      "0.5840176529265368 9.75\n",
      "0.5797221186688295 10.0\n",
      "0.5756244521244974 10.25\n",
      "0.5717207540326237 10.5\n",
      "0.5680315976140577 10.75\n",
      "0.5643942447202966 11.0\n",
      "0.5608431489113022 11.25\n",
      "0.5577339633476732 11.5\n",
      "0.5549588941726444 11.75\n",
      "0.5519652590958095 12.0\n",
      "0.5490624779599198 12.25\n",
      "0.5463943494513688 12.5\n",
      "0.5439222205430457 12.75\n",
      "0.541670024985895 13.0\n",
      "0.5393737280109617 13.25\n",
      "0.5375214105793451 13.5\n",
      "0.5356412400632726 13.75\n",
      "0.5339781371215556 14.0\n",
      "0.5320122104796542 14.25\n",
      "0.5304459086421246 14.5\n",
      "0.5287930687084424 14.75\n",
      "0.5274584672422652 15.0\n",
      "0.525851299617167 15.25\n",
      "0.5243871721761559 15.5\n",
      "0.5230601841590942 15.75\n",
      "0.5219524481160588 16.0\n",
      "0.5206987920247439 16.25\n",
      "0.5194789494363345 16.5\n",
      "0.5185726231374485 16.75\n",
      "0.5176509701988756 17.0\n",
      "0.516763716225746 17.25\n",
      "0.5159327429705524 17.5\n",
      "0.515046494524426 17.75\n",
      "0.5141040881706997 18.0\n",
      "0.5132834302179148 18.25\n",
      "0.5124118476727786 18.5\n",
      "0.5116511016411279 18.75\n",
      "0.5111422296548528 19.0\n",
      "0.510533262137683 19.25\n",
      "0.5099489204791602 19.5\n",
      "0.509288736651219 19.75\n",
      "0.5087648599637317 20.0\n",
      "0.5084322298563397 20.25\n",
      "0.5079537784225426 20.5\n",
      "0.5073998327607572 20.75\n",
      "0.5069012069556106 21.0\n",
      "0.5064123875439498 21.25\n",
      "0.5059489628353533 21.5\n",
      "0.5056014507354423 21.75\n",
      "0.5051178722546846 22.0\n",
      "0.504714795188491 22.25\n",
      "0.5043924160303036 22.5\n",
      "0.5040247428496589 22.75\n",
      "0.5037527326946132 23.0\n",
      "0.5035410978914601 23.25\n",
      "0.5033598291373248 23.5\n",
      "0.5030273722811578 23.75\n",
      "0.5027200741472064 24.0\n",
      "0.5023674719429388 24.25\n",
      "0.5021055388769116 24.5\n",
      "0.5018788471031502 24.75\n",
      "0.5016270237051813 25.0\n",
      "0.5014003344683766 25.25\n",
      "0.5011233011958373 25.5\n",
      "0.5009066913824022 25.75\n",
      "0.5008009026525493 26.0\n",
      "0.5006246096189881 26.25\n",
      "0.500488600989291 26.5\n",
      "0.5003223791581874 26.75\n",
      "0.5001762993260329 27.0\n",
      "0.5000050371236009 27.25\n",
      "0.49987910781567974 27.5\n",
      "0.4997028097075446 27.75\n",
      "0.4996121414827277 28.0\n",
      "0.4995113990107089 28.25\n",
      "0.49938546472970524 28.5\n",
      "0.49921924584185445 28.75\n",
      "0.49909833670827414 29.0\n",
      "0.49895731541460564 29.25\n",
      "0.4988263502009812 29.5\n",
      "0.4987104833672503 29.75\n",
      "0.4986550879985493 30.0\n"
     ]
    }
   ],
   "source": [
    "#test on dataframe within -30 and 30 log-likelihood\n",
    "fp = 0\n",
    "tn = 0\n",
    "tp = 0\n",
    "fn = 0\n",
    "llt = -30\n",
    "tpr_list = []\n",
    "fpr_list = []\n",
    "llt_list = [-30]\n",
    "accuracy_roc = []\n",
    "while llt <= 30:\n",
    "    for i in df_merge_exp5_1.iterrows():\n",
    "        llr = i[1][5]\n",
    "        sample_type = i[1]['Label']\n",
    "        fp,tn,tp,fn = calls(llr, llt, sample_type, fp,tn,tp,fn)\n",
    "    fpr = float(fp) / (fp + tn)\n",
    "    tpr = float(tp) / (tp + fn)\n",
    "    acc = (float(tp) + float(tn))/(fp + tn + tp + fn)\n",
    "    accuracy_roc.append(acc)\n",
    "    print(acc,llt)\n",
    "    fp = 0\n",
    "    tn = 0\n",
    "    tp = 0\n",
    "    fn = 0\n",
    "    tpr_list.append(tpr)\n",
    "    fpr_list.append(fpr)\n",
    "    llt += 0.25\n",
    "    llt_list.append(llt)"
   ]
  },
  {
   "cell_type": "code",
   "execution_count": null,
   "metadata": {},
   "outputs": [],
   "source": []
  },
  {
   "cell_type": "code",
   "execution_count": null,
   "metadata": {},
   "outputs": [],
   "source": []
  },
  {
   "cell_type": "code",
   "execution_count": 103,
   "metadata": {},
   "outputs": [
    {
     "name": "stdout",
     "output_type": "stream",
     "text": [
      "0.822351310050297 0\n",
      "0.8315343782915663 0.25\n",
      "0.8391514644530956 0.5\n",
      "0.8455565237533228 0.75\n",
      "0.8513609950045876 1.0\n",
      "0.8563665770703157 1.25\n",
      "0.861084533320576 1.5\n",
      "0.8643871982695049 1.75\n",
      "0.8678706022207047 2.0\n",
      "0.8705268227912365 2.25\n",
      "0.8727331215569585 2.5\n",
      "0.8747753725360096 2.75\n",
      "0.8769461077844312 3.0\n",
      "0.8783315898811015 3.25\n",
      "0.8800158616377141 3.5\n",
      "0.8816063648418261 3.75\n",
      "0.882606635845327 4.0\n",
      "0.8838924698438478 4.25\n",
      "0.8851527848389755 4.5\n",
      "0.8860366252452584 4.75\n",
      "0.8873948628974465 5.0\n",
      "0.8880582410270461 5.25\n",
      "0.8888233259405457 5.5\n",
      "0.8890723220521938 5.75\n",
      "0.8901304769461342 6.0\n",
      "0.8908836612097033 6.25\n",
      "0.8918029660006676 6.5\n",
      "0.8922606620936475 6.75\n",
      "0.8934609002281684 7.0\n",
      "0.8944680161068022 7.25\n",
      "0.8946939005176683 7.5\n",
      "0.8951843026505457 7.75\n",
      "0.8958883903878065 8.0\n",
      "0.8963685810270356 8.25\n",
      "0.8962960488961624 8.5\n",
      "0.8967082067930324 8.75\n",
      "0.896614554863161 9.0\n",
      "0.8959513400494202 9.25\n",
      "0.8964504089573573 9.5\n",
      "0.8972761999667829 9.75\n",
      "0.8974903558580035 10.0\n"
     ]
    }
   ],
   "source": [
    "#test positive thresholds on subset of sites with absolute llr > threshold\n",
    "fp = 0\n",
    "tn = 0\n",
    "tp = 0\n",
    "fn = 0\n",
    "llt = 0\n",
    "llt_accuracy = [0,10]\n",
    "tpr_list_2 = []\n",
    "fpr_list_2 = []\n",
    "llt_list_2 = [0]\n",
    "accuracy_roc_2 = []\n",
    "while llt <= 10:\n",
    "    df_merge_filt = df_merge_exp1_1[abs(df_merge_exp1_1[5])> llt]\n",
    "    for i in df_merge_filt.iterrows():\n",
    "        llr = i[1][5]\n",
    "        sample_type = i[1]['Label']\n",
    "        fp,tn,tp,fn = calls(llr, llt, sample_type, fp,tn,tp,fn)\n",
    "    fpr = float(fp) / (fp + tn)\n",
    "    tpr = float(tp) / (tp + fn)\n",
    "    acc = (float(tp) + float(tn))/(fp + tn + tp + fn)\n",
    "    accuracy_roc_2.append(acc)\n",
    "    print(acc,llt)\n",
    "    fp = 0\n",
    "    tn = 0\n",
    "    tp = 0\n",
    "    fn = 0\n",
    "    tpr_list_2.append(tpr)\n",
    "    fpr_list_2.append(fpr)\n",
    "    llt += 0.25\n",
    "    llt_list_2.append(llt)"
   ]
  },
  {
   "cell_type": "code",
   "execution_count": 104,
   "metadata": {},
   "outputs": [],
   "source": [
    "df_accuracy = pd.concat([pd.Series(accuracy_roc),pd.Series(llt_list)],axis=1)\n",
    "df_accuracy.columns = ['Accuracy','LLT']\n",
    "fpr_list.reverse()\n",
    "tpr_list.reverse()\n",
    "llt_list.reverse()\n",
    "df_roc = pd.concat([pd.Series(fpr_list),pd.Series(tpr_list), pd.Series(llt_list)],axis=1)\n",
    "df_roc.columns = ['FPR','TPR','LLT']\n",
    "df_accuracy.to_csv(\"Accuracy_range_LLT_30_exp5_50000.tsv\",sep='\\t',header=True,index=None)\n",
    "df_roc.to_csv(\"ROC_LLT_30_exp5.tsv\",sep='\\t',header=True,index=None)\n",
    "df_accuracy_method2 = pd.concat([pd.Series(accuracy_roc_2),pd.Series(llt_list_2)],axis=1)\n",
    "df_accuracy_method2.columns = ['Accuracy','LLT']\n",
    "df_accuracy_method2.to_csv(\"Accuracy_range_LLT_30_method2_exp5_50000.tsv\",sep='\\t',header=True,index=None)"
   ]
  },
  {
   "cell_type": "code",
   "execution_count": 105,
   "metadata": {},
   "outputs": [
    {
     "data": {
      "text/plain": [
       "0.9364862375039925"
      ]
     },
     "execution_count": 105,
     "metadata": {},
     "output_type": "execute_result"
    }
   ],
   "source": [
    "#calculate AUC on ROC curve obtained changin LLR from -40 to 40 with step 0.25\n",
    "import numpy as np\n",
    "from sklearn import metrics\n",
    "metrics.auc(fpr_list, tpr_list)"
   ]
  },
  {
   "cell_type": "code",
   "execution_count": 106,
   "metadata": {},
   "outputs": [
    {
     "data": {
      "text/plain": [
       "Text(0, 0.5, 'Accuracy')"
      ]
     },
     "execution_count": 106,
     "metadata": {},
     "output_type": "execute_result"
    },
    {
     "data": {
      "image/png": "[encoded data removed]",
      "text/plain": [
       "<Figure size 432x288 with 1 Axes>"
      ]
     },
     "metadata": {
      "needs_background": "light"
     },
     "output_type": "display_data"
    }
   ],
   "source": [
    "#plot accuracy calculated as (TP + TN)/calls where calls are those with abs(llr)> threshold\n",
    "plt.plot(df_accuracy_method2['LLT'],df_accuracy_method2['Accuracy'],)\n",
    "plt.xlabel(\"Log-likelihood ratio (threshold)\")\n",
    "plt.ylabel(\"Accuracy\")"
   ]
  },
  {
   "cell_type": "code",
   "execution_count": 107,
   "metadata": {},
   "outputs": [
    {
     "data": {
      "text/plain": [
       "Text(0, 0.5, 'Accuracy')"
      ]
     },
     "execution_count": 107,
     "metadata": {},
     "output_type": "execute_result"
    },
    {
     "data": {
      "image/png": "[encoded data removed]",
      "text/plain": [
       "<Figure size 432x288 with 1 Axes>"
      ]
     },
     "metadata": {
      "needs_background": "light"
     },
     "output_type": "display_data"
    }
   ],
   "source": [
    "#plot accuracy calculated as (TP + TN)/calls where calls are all 200k sites\n",
    "plt.plot(df_accuracy['LLT'],df_accuracy['Accuracy'],)\n",
    "plt.xlabel(\"Log-likelihood ratio (threshold)\")\n",
    "plt.ylabel(\"Accuracy\")"
   ]
  },
  {
   "cell_type": "code",
   "execution_count": 108,
   "metadata": {},
   "outputs": [
    {
     "data": {
      "text/plain": [
       "Text(0.5, 1.0, 'ROC curve on 100K random mitochondrial sites. Lt range -30 to 30')"
      ]
     },
     "execution_count": 108,
     "metadata": {},
     "output_type": "execute_result"
    },
    {
     "data": {
      "image/png": "[encoded data removed]",
      "text/plain": [
       "<Figure size 432x288 with 1 Axes>"
      ]
     },
     "metadata": {
      "needs_background": "light"
     },
     "output_type": "display_data"
    }
   ],
   "source": [
    "#plot ROC curve obtained changin LLR from -30 to 30 with step 0.25\n",
    "plt.plot(fpr_list,tpr_list)\n",
    "plt.xlabel(\"False positive rate\")\n",
    "plt.ylabel(\"True positive rate\")\n",
    "plt.title(\"ROC curve on 100K random mitochondrial sites. Lt range -30 to 30\")"
   ]
  },
  {
   "cell_type": "code",
   "execution_count": 109,
   "metadata": {},
   "outputs": [
    {
     "name": "stdout",
     "output_type": "stream",
     "text": [
      "0.5042986472208987 -20\n",
      "0.5052155087581185 -19.75\n",
      "0.505946091532517 -19.5\n",
      "0.5069090532421794 -19.25\n",
      "0.5078207545215355 -19.0\n",
      "0.508695967432851 -18.75\n",
      "0.5096645880378711 -18.5\n",
      "0.510824752947026 -18.25\n",
      "0.5119073515854025 -18.0\n",
      "0.5127772195692932 -17.75\n",
      "0.5141034007686173 -17.5\n",
      "0.5155231889612879 -17.25\n",
      "0.5167502278942571 -17.0\n",
      "0.5178168182477366 -16.75\n",
      "0.5192628427584349 -16.5\n",
      "0.5209405914953126 -16.25\n",
      "0.5224998446143327 -16.0\n",
      "0.5242095885302284 -15.75\n",
      "0.5259712006630063 -15.5\n",
      "0.5276367855145124 -15.25\n",
      "0.5295964032652385 -15.0\n",
      "0.5313872544957322 -14.75\n",
      "0.5331551522308896 -14.5\n",
      "0.5349832180002486 -14.25\n",
      "0.5371922228322232 -14.0\n",
      "0.5391555656839794 -13.75\n",
      "0.541188414204616 -13.5\n",
      "0.5435541513440721 -13.25\n",
      "0.5459979694590059 -13.0\n",
      "0.548792110388265 -12.75\n",
      "0.5518409547686633 -12.5\n",
      "0.5549063484170396 -12.25\n",
      "0.5579923339894334 -12.0\n",
      "0.5613157213157213 -11.75\n",
      "0.5645746135676101 -11.5\n",
      "0.5679892261473117 -11.25\n",
      "0.571526245454828 -11.0\n",
      "0.5752273810263742 -10.75\n",
      "0.5788225056201892 -10.5\n",
      "0.5830570635282417 -10.25\n",
      "0.5875240877727358 -10.0\n",
      "0.5916437022149472 -9.75\n",
      "0.5963676298422105 -9.5\n",
      "0.6009779748461554 -9.25\n",
      "0.6058317013273649 -9.0\n",
      "0.6111352852199499 -8.75\n",
      "0.6162931650763063 -8.5\n",
      "0.6219459123406901 -8.25\n",
      "0.6280566147214854 -8.0\n",
      "0.6337961044343141 -7.75\n",
      "0.64075355951172 -7.5\n",
      "0.6472477824753378 -7.25\n",
      "0.654364224137931 -7.0\n",
      "0.6614995648029179 -6.75\n",
      "0.6691463679973476 -6.5\n",
      "0.6766799647686649 -6.25\n",
      "0.6849092190349859 -6.0\n",
      "0.6930242679211656 -5.75\n",
      "0.7018756476683938 -5.5\n",
      "0.710947619294337 -5.25\n",
      "0.720392998165594 -5.0\n",
      "0.7294829676764117 -4.75\n",
      "0.7399363803089803 -4.5\n",
      "0.7498134251005432 -4.25\n",
      "0.7593678756476684 -4.0\n",
      "0.769031455666684 -3.75\n",
      "0.7789950457080077 -3.5\n",
      "0.7889871174355094 -3.25\n",
      "0.798532292670792 -3.0\n",
      "0.8073439184147252 -2.75\n",
      "0.8163992869875223 -2.5\n",
      "0.825579587733571 -2.25\n",
      "0.8342539718730244 -2.0\n",
      "0.8420114418373269 -1.75\n",
      "0.8496056708776802 -1.5\n",
      "0.8558266312909377 -1.25\n",
      "0.8624878220674502 -1.0\n",
      "0.8675040938581763 -0.75\n",
      "0.8715525014769441 -0.5\n",
      "0.874892470332176 -0.25\n",
      "0.8771847981588605 0.0\n",
      "0.8765366834587557 0.25\n",
      "0.8756062678771297 0.5\n",
      "0.8723016177339289 0.75\n",
      "0.8681652364962898 1.0\n",
      "0.8625971603274951 1.25\n",
      "0.8562915211375626 1.5\n",
      "0.8478445595854922 1.75\n",
      "0.839667126112775 2.0\n",
      "0.8306026218975077 2.25\n",
      "0.8207860044772407 2.5\n",
      "0.8106603930022386 2.75\n",
      "0.79964145820812 3.0\n",
      "0.788722614877609 3.25\n",
      "0.7782521736427039 3.5\n",
      "0.7676421214068102 3.75\n",
      "0.7569172418081204 4.0\n",
      "0.7455414045741406 4.25\n",
      "0.7343045726305318 4.5\n",
      "0.7230863289224169 4.75\n",
      "0.7120516514151286 5.0\n",
      "0.701434078003896 5.25\n",
      "0.6919075743446275 5.5\n",
      "0.6819684362144182 5.75\n",
      "0.6727210560125992 6.0\n",
      "0.6638307132716401 6.25\n",
      "0.6553353295274408 6.5\n",
      "0.647256299734748 6.75\n",
      "0.6397451173392736 7.0\n",
      "0.6319994197372238 7.25\n",
      "0.6249792771883289 7.5\n",
      "0.6178877792051718 7.75\n",
      "0.6112141399280986 8.0\n",
      "0.6052530694710667 8.25\n",
      "0.5996933627539339 8.5\n",
      "0.5936363542173918 8.75\n",
      "0.5878099066524384 9.0\n",
      "0.5823991379846246 9.25\n",
      "0.5776021053067821 9.5\n",
      "0.5730580361767814 9.75\n",
      "0.568641872992852 10.0\n",
      "0.5644282369517021 10.25\n",
      "0.56041519910496 10.5\n",
      "0.5566214634247413 10.75\n",
      "0.5528815771752981 11.0\n",
      "0.5492302592047739 11.25\n",
      "0.5460346399270738 11.5\n",
      "0.5431812296058425 11.75\n",
      "0.5401023537212001 12.0\n",
      "0.5371179944058841 12.25\n",
      "0.5343741582578787 12.5\n",
      "0.5318333436923778 12.75\n",
      "0.5295177914745947 13.0\n",
      "0.5271565164244352 13.25\n",
      "0.5252514788301961 13.5\n",
      "0.5233186922471305 13.75\n",
      "0.5216089667889033 14.0\n",
      "0.51958814145725 14.25\n",
      "0.51797756300693 14.5\n",
      "0.5162783952599468 14.75\n",
      "0.514906047359589 15.0\n",
      "0.5132537109354769 15.25\n",
      "0.5117473998259644 15.5\n",
      "0.5103841891010037 15.75\n",
      "0.5092449683547582 16.0\n",
      "0.5079555813375322 16.25\n",
      "0.5067018852289207 16.5\n",
      "0.5057697486999938 16.75\n",
      "0.5048219853527663 17.0\n",
      "0.5039102557462632 17.25\n",
      "0.5030557281955667 17.5\n",
      "0.5021442333588846 17.75\n",
      "0.5011756662972209 18.0\n",
      "0.50033147568833 18.25\n",
      "0.499435461316152 18.5\n",
      "0.4986534079138181 18.75\n",
      "0.49813032804715096 19.0\n",
      "0.49750352200215464 19.25\n",
      "0.4969027098698931 19.5\n",
      "0.4962243238483929 19.75\n",
      "0.4957013527791013 20.0\n"
     ]
    }
   ],
   "source": [
    "#test on dataframe within -20 and 20 log-likelihood\n",
    "fp = 0\n",
    "tn = 0\n",
    "tp = 0\n",
    "fn = 0\n",
    "llt = -20\n",
    "tpr_list = []\n",
    "fpr_list = []\n",
    "llt_list = [-20]\n",
    "accuracy_roc = []\n",
    "while llt <= 20:\n",
    "    for i in df_merge_exp5_2.iterrows():\n",
    "        llr = i[1][5]\n",
    "        sample_type = i[1]['Label']\n",
    "        fp,tn,tp,fn = calls(llr, llt, sample_type, fp,tn,tp,fn)\n",
    "    fpr = float(fp) / (fp + tn)\n",
    "    tpr = float(tp) / (tp + fn)\n",
    "    acc = (float(tp) + float(tn))/(fp + tn + tp + fn)\n",
    "    accuracy_roc.append(acc)\n",
    "    print(acc,llt)\n",
    "    fp = 0\n",
    "    tn = 0\n",
    "    tp = 0\n",
    "    fn = 0\n",
    "    tpr_list.append(tpr)\n",
    "    fpr_list.append(fpr)\n",
    "    llt += 0.25\n",
    "    llt_list.append(llt)"
   ]
  },
  {
   "cell_type": "code",
   "execution_count": 113,
   "metadata": {},
   "outputs": [
    {
     "name": "stdout",
     "output_type": "stream",
     "text": [
      "0.8771847981588605 0\n",
      "0.8888280981805698 0.25\n",
      "0.898874539357923 0.5\n",
      "0.9074600618912222 0.75\n",
      "0.9152300712896954 1.0\n",
      "0.9210839713209381 1.25\n",
      "0.92672775820787 1.5\n",
      "0.930725114249835 1.75\n",
      "0.9347029398389642 2.0\n",
      "0.9378745311872898 2.25\n",
      "0.9405707729815 2.5\n",
      "0.942983303846211 2.75\n",
      "0.9451949054419143 3.0\n",
      "0.9468499831549901 3.25\n",
      "0.9482537086788927 3.5\n",
      "0.9494163424124513 3.75\n",
      "0.9505022169939372 4.0\n",
      "0.9515945976620134 4.25\n",
      "0.9522255838326313 4.5\n",
      "0.9527109746228706 4.75\n",
      "0.9535404970187579 5.0\n",
      "0.9540088145966066 5.25\n",
      "0.9547076716725348 5.5\n",
      "0.9552024576954069 5.75\n",
      "0.9554135080165879 6.0\n",
      "0.9559432206450179 6.25\n",
      "0.9558909218039856 6.5\n",
      "0.9563990924143007 6.75\n",
      "0.9565343378730803 7.0\n",
      "0.9569158688123854 7.25\n",
      "0.9576855723526679 7.5\n",
      "0.9578979137586298 7.75\n",
      "0.9585006161306993 8.0\n",
      "0.9583507743825869 8.25\n",
      "0.9585699819486637 8.5\n",
      "0.9593318133172025 8.75\n",
      "0.9595213473186586 9.0\n",
      "0.9600832682799896 9.25\n",
      "0.9604128918904079 9.5\n",
      "0.9605102928385039 9.75\n",
      "0.9611145131659522 10.0\n"
     ]
    }
   ],
   "source": [
    "#test positive thresholds on subset of sites with absolute llr > threshold\n",
    "fp = 0\n",
    "tn = 0\n",
    "tp = 0\n",
    "fn = 0\n",
    "llt = 0\n",
    "llt_accuracy = [0,10]\n",
    "tpr_list_2 = []\n",
    "fpr_list_2 = []\n",
    "llt_list_2 = [0]\n",
    "accuracy_roc_2 = []\n",
    "while llt <= 10:\n",
    "    df_merge_filt = df_merge_exp5_2[abs(df_merge_exp5_2[5])> llt]\n",
    "    for i in df_merge_filt.iterrows():\n",
    "        llr = i[1][5]\n",
    "        sample_type = i[1]['Label']\n",
    "        fp,tn,tp,fn = calls(llr, llt, sample_type, fp,tn,tp,fn)\n",
    "    fpr = float(fp) / (fp + tn)\n",
    "    tpr = float(tp) / (tp + fn)\n",
    "    acc = (float(tp) + float(tn))/(fp + tn + tp + fn)\n",
    "    accuracy_roc_2.append(acc)\n",
    "    print(acc,llt)\n",
    "    fp = 0\n",
    "    tn = 0\n",
    "    tp = 0\n",
    "    fn = 0\n",
    "    tpr_list_2.append(tpr)\n",
    "    fpr_list_2.append(fpr)\n",
    "    llt += 0.25\n",
    "    llt_list_2.append(llt)"
   ]
  },
  {
   "cell_type": "code",
   "execution_count": 114,
   "metadata": {},
   "outputs": [
    {
     "data": {
      "text/plain": [
       "0.9343946815341144"
      ]
     },
     "execution_count": 114,
     "metadata": {},
     "output_type": "execute_result"
    }
   ],
   "source": [
    "#calculate AUC on ROC curve obtained changin LLR from -40 to 40 with step 0.25\n",
    "import numpy as np\n",
    "from sklearn import metrics\n",
    "metrics.auc(fpr_list, tpr_list)"
   ]
  },
  {
   "cell_type": "code",
   "execution_count": 115,
   "metadata": {},
   "outputs": [],
   "source": [
    "df_accuracy = pd.concat([pd.Series(accuracy_roc),pd.Series(llt_list)],axis=1)\n",
    "df_accuracy.columns = ['Accuracy','LLT']\n",
    "fpr_list.reverse()\n",
    "tpr_list.reverse()\n",
    "llt_list.reverse()\n",
    "df_roc = pd.concat([pd.Series(fpr_list),pd.Series(tpr_list), pd.Series(llt_list)],axis=1)\n",
    "df_roc.columns = ['FPR','TPR','LLT']\n",
    "df_accuracy.to_csv(\"Accuracy_range_LLT_20_50000_exp5.tsv\",sep='\\t',header=True,index=None)\n",
    "df_roc.to_csv(\"ROC_LLT_20_exp5.tsv\",sep='\\t',header=True,index=None)\n",
    "df_accuracy_method2 = pd.concat([pd.Series(accuracy_roc_2),pd.Series(llt_list_2)],axis=1)\n",
    "df_accuracy_method2.columns = ['Accuracy','LLT']\n",
    "df_accuracy_method2.to_csv(\"Accuracy_range_LLT_20_method2_50000_exp5.tsv\",sep='\\t',header=True,index=None)"
   ]
  },
  {
   "cell_type": "code",
   "execution_count": 116,
   "metadata": {},
   "outputs": [
    {
     "data": {
      "text/plain": [
       "Text(0, 0.5, 'Accuracy')"
      ]
     },
     "execution_count": 116,
     "metadata": {},
     "output_type": "execute_result"
    },
    {
     "data": {
      "image/png": "[encoded data removed]",
      "text/plain": [
       "<Figure size 432x288 with 1 Axes>"
      ]
     },
     "metadata": {
      "needs_background": "light"
     },
     "output_type": "display_data"
    }
   ],
   "source": [
    "#plot accuracy calculated as (TP + TN)/calls where calls are those with abs(llr)> threshold\n",
    "plt.plot(df_accuracy_method2['LLT'],df_accuracy_method2['Accuracy'],)\n",
    "plt.xlabel(\"Log-likelihood ratio (threshold)\")\n",
    "plt.ylabel(\"Accuracy\")"
   ]
  },
  {
   "cell_type": "code",
   "execution_count": 117,
   "metadata": {},
   "outputs": [
    {
     "data": {
      "text/plain": [
       "Text(0, 0.5, 'Accuracy')"
      ]
     },
     "execution_count": 117,
     "metadata": {},
     "output_type": "execute_result"
    },
    {
     "data": {
      "image/png": "[encoded data removed]",
      "text/plain": [
       "<Figure size 432x288 with 1 Axes>"
      ]
     },
     "metadata": {
      "needs_background": "light"
     },
     "output_type": "display_data"
    }
   ],
   "source": [
    "#plot accuracy calculated as (TP + TN)/calls where calls are all 200k sites\n",
    "plt.plot(df_accuracy['LLT'],df_accuracy['Accuracy'],)\n",
    "plt.xlabel(\"Log-likelihood ratio (threshold)\")\n",
    "plt.ylabel(\"Accuracy\")"
   ]
  },
  {
   "cell_type": "code",
   "execution_count": 118,
   "metadata": {},
   "outputs": [
    {
     "data": {
      "text/plain": [
       "Text(0.5, 1.0, 'ROC curve on 100K random mitochondrial sites. Lt range -20 to 20')"
      ]
     },
     "execution_count": 118,
     "metadata": {},
     "output_type": "execute_result"
    },
    {
     "data": {
      "image/png": "[encoded data removed]",
      "text/plain": [
       "<Figure size 432x288 with 1 Axes>"
      ]
     },
     "metadata": {
      "needs_background": "light"
     },
     "output_type": "display_data"
    }
   ],
   "source": [
    "#plot ROC curve obtained changin LLR from -20 to 20 with step 0.25\n",
    "plt.plot(fpr_list,tpr_list)\n",
    "plt.xlabel(\"False positive rate\")\n",
    "plt.ylabel(\"True positive rate\")\n",
    "plt.title(\"ROC curve on 100K random mitochondrial sites. Lt range -20 to 20\")"
   ]
  },
  {
   "cell_type": "code",
   "execution_count": 88,
   "metadata": {},
   "outputs": [
    {
     "data": {
      "text/plain": [
       "<matplotlib.text.Text at 0x113b5d7d0>"
      ]
     },
     "execution_count": 88,
     "metadata": {},
     "output_type": "execute_result"
    },
    {
     "data": {
      "image/png": "[encoded data removed]",
      "text/plain": [
       "<matplotlib.figure.Figure at 0x1139a04d0>"
      ]
     },
     "metadata": {},
     "output_type": "display_data"
    }
   ],
   "source": [
    "fig, axes = plt.subplots(nrows=2, ncols=1, figsize=(8, 8))\n",
    "axes[0].hist(f1[5].values,bins=20)\n",
    "axes[0].set_ylabel(\"Counts\")\n",
    "axes[0].set_xlabel(\"Log-likelihood\")\n",
    "axes[0].set_title(\"Positive Control\")\n",
    "axes[0].set_xlim(f3[5].min(),f3[5].max())\n",
    "axes[1].hist(f3[5].values,bins=20)\n",
    "axes[1].set_ylabel(\"Counts\")\n",
    "axes[1].set_xlabel(\"Log-likelihood\")\n",
    "axes[1].set_title(\"Negative Control\")"
   ]
  },
  {
   "cell_type": "code",
   "execution_count": null,
   "metadata": {},
   "outputs": [],
   "source": []
  },
  {
   "cell_type": "code",
   "execution_count": null,
   "metadata": {},
   "outputs": [],
   "source": []
  },
  {
   "cell_type": "code",
   "execution_count": 90,
   "metadata": {},
   "outputs": [
    {
     "data": {
      "text/plain": [
       "73"
      ]
     },
     "execution_count": 90,
     "metadata": {},
     "output_type": "execute_result"
    }
   ],
   "source": [
    "sum(f3[5]<-50)"
   ]
  },
  {
   "cell_type": "code",
   "execution_count": 91,
   "metadata": {},
   "outputs": [
    {
     "data": {
      "text/plain": [
       "(96881,)"
      ]
     },
     "execution_count": 91,
     "metadata": {},
     "output_type": "execute_result"
    }
   ],
   "source": [
    "f3[5].shape"
   ]
  },
  {
   "cell_type": "code",
   "execution_count": 5,
   "metadata": {},
   "outputs": [
    {
     "name": "stdout",
     "output_type": "stream",
     "text": [
      "ROC_curve.ipynb                 neg_ctrl_ll.png\r\n",
      "log_likelihood_distrib_test.png \u001b[34mpos_ctrl\u001b[m\u001b[m\r\n",
      "\u001b[34mnative\u001b[m\u001b[m                          pos_ctrl_ll.png\r\n",
      "\u001b[34mneg_ctrl\u001b[m\u001b[m                        roc_test.png\r\n"
     ]
    }
   ],
   "source": [
    "!ls"
   ]
  },
  {
   "cell_type": "code",
   "execution_count": 8,
   "metadata": {},
   "outputs": [
    {
     "name": "stdout",
     "output_type": "stream",
     "text": [
      "\u001b[31mexp_2_barcode01_meth_calls.tsv\u001b[m\u001b[m \u001b[31mexp_4_barcode10_meth_calls.tsv\u001b[m\u001b[m\r\n",
      "\u001b[31mexp_3_barcode10_meth_calls.tsv\u001b[m\u001b[m \u001b[34mnative\u001b[m\u001b[m\r\n"
     ]
    }
   ],
   "source": [
    "!ls native"
   ]
  },
  {
   "cell_type": "code",
   "execution_count": 9,
   "metadata": {},
   "outputs": [
    {
     "name": "stdout",
     "output_type": "stream",
     "text": [
      "total 256\r\n",
      "drwxr-xr-x  9 Claudia  staff    288 25 Mar 18:27 \u001b[34mneg_ctrl\u001b[m\u001b[m/\r\n",
      "drwxr-xr-x  9 Claudia  staff    288 25 Mar 18:27 \u001b[34mpos_ctrl\u001b[m\u001b[m/\r\n",
      "-rw-r--r--@ 1 Claudia  staff  14491  3 Apr 17:09 roc_test.png\r\n",
      "-rw-r--r--@ 1 Claudia  staff   7734  3 Apr 18:32 pos_ctrl_ll.png\r\n",
      "-rw-r--r--@ 1 Claudia  staff   7925  3 Apr 18:32 neg_ctrl_ll.png\r\n",
      "-rw-r--r--@ 1 Claudia  staff  14975  3 Apr 18:38 log_likelihood_distrib_test.png\r\n",
      "-rw-r--r--  1 Claudia  staff  78363  6 Apr 12:25 ROC_curve.ipynb\r\n",
      "drwxr-xr-x  6 Claudia  staff    192  6 Apr 12:26 \u001b[34mnative\u001b[m\u001b[m/\r\n"
     ]
    }
   ],
   "source": [
    "ls -ltr"
   ]
  },
  {
   "cell_type": "code",
   "execution_count": 10,
   "metadata": {},
   "outputs": [
    {
     "name": "stdout",
     "output_type": "stream",
     "text": [
      "/Users/Claudia/Documents/mitochondria/Nanopore/native\n"
     ]
    }
   ],
   "source": [
    "cd native"
   ]
  },
  {
   "cell_type": "code",
   "execution_count": 20,
   "metadata": {},
   "outputs": [
    {
     "name": "stdout",
     "output_type": "stream",
     "text": [
      "\u001b[31mexp_2_barcode01_meth_calls.tsv\u001b[m\u001b[m*    exp_3_barcode10_meth_calls_MT.tsv\r\n",
      "exp_2_barcode01_meth_calls_MT.tsv  \u001b[31mexp_4_barcode10_meth_calls.tsv\u001b[m\u001b[m*\r\n",
      "\u001b[31mexp_3_barcode10_meth_calls.tsv\u001b[m\u001b[m*    exp_4_barcode10_meth_calls_MT.tsv\r\n"
     ]
    }
   ],
   "source": []
  },
  {
   "cell_type": "code",
   "execution_count": 34,
   "metadata": {},
   "outputs": [
    {
     "name": "stdout",
     "output_type": "stream",
     "text": [
      "total 304\r\n",
      "drwxr-xr-x  9 Claudia  staff     288 25 Mar 18:27 \u001b[34mneg_ctrl\u001b[m\u001b[m/\r\n",
      "drwxr-xr-x  9 Claudia  staff     288 25 Mar 18:27 \u001b[34mpos_ctrl\u001b[m\u001b[m/\r\n",
      "-rw-r--r--@ 1 Claudia  staff   14491  3 Apr 17:09 roc_test.png\r\n",
      "-rw-r--r--@ 1 Claudia  staff    7734  3 Apr 18:32 pos_ctrl_ll.png\r\n",
      "-rw-r--r--@ 1 Claudia  staff    7925  3 Apr 18:32 neg_ctrl_ll.png\r\n",
      "-rw-r--r--@ 1 Claudia  staff   14975  3 Apr 18:38 log_likelihood_distrib_test.png\r\n",
      "drwxr-xr-x  8 Claudia  staff     256  6 Apr 12:44 \u001b[34mnative\u001b[m\u001b[m/\r\n",
      "-rw-r--r--  1 Claudia  staff  104892  6 Apr 13:25 ROC_curve.ipynb\r\n"
     ]
    }
   ],
   "source": [
    "ls -ltr"
   ]
  },
  {
   "cell_type": "code",
   "execution_count": 56,
   "metadata": {},
   "outputs": [],
   "source": [
    "files = !ls native/*MT.tsv"
   ]
  },
  {
   "cell_type": "code",
   "execution_count": 59,
   "metadata": {},
   "outputs": [],
   "source": [
    "neg_ctrl = !ls neg_ctrl/*\n",
    "pos_ctrl = !ls pos_ctrl/*"
   ]
  },
  {
   "cell_type": "code",
   "execution_count": null,
   "metadata": {},
   "outputs": [],
   "source": []
  },
  {
   "cell_type": "code",
   "execution_count": 60,
   "metadata": {},
   "outputs": [],
   "source": [
    "neg_ctrl = neg_ctrl[2]\n",
    "pos_ctrl = pos_ctrl[2]\n",
    "native1 = files[0]\n",
    "native2 = files[1]\n",
    "native3 = files[2]\n",
    "neg = pd.read_csv(neg_ctrl, sep='\\t',header=None)\n",
    "neg = neg.sample(frac=0.02)\n",
    "pos = pd.read_csv(pos_ctrl, sep='\\t',header=None)\n",
    "pos = pos.sample(frac=0.02)\n",
    "native1 = pd.read_csv(native1,sep='\\t', header=None)\n",
    "native1 = native1.sample(frac = 0.02)\n",
    "native2 = pd.read_csv(native2,sep='\\t', header=None)\n",
    "native2 = native2.sample(frac = 0.02)\n",
    "native3 = pd.read_csv(native3,sep='\\t', header=None)\n",
    "native3 = native3.sample(frac = 0.02)\n",
    "list_files = [neg,pos,native1,native2,native3]"
   ]
  },
  {
   "cell_type": "code",
   "execution_count": 75,
   "metadata": {},
   "outputs": [
    {
     "data": {
      "image/png": "[encoded data removed]",
      "text/plain": [
       "<Figure size 576x720 with 5 Axes>"
      ]
     },
     "metadata": {
      "needs_background": "light"
     },
     "output_type": "display_data"
    }
   ],
   "source": [
    "titles = ['Negative control','Positive control','Native BamH1 - sample1','Native BamH1 - sample2', 'Native BamH1 - sample3']\n",
    "fig, axes = plt.subplots(nrows=5, ncols=1, figsize=(8, 10))\n",
    "fig.tight_layout()\n",
    "minv = neg[5].min()\n",
    "maxv = neg[5].max()\n",
    "c = 0\n",
    "while c < len(list_files):\n",
    "    axes[c].hist(list_files[c][5].values,bins=20)\n",
    "    axes[c].set_ylabel(\"Counts\")\n",
    "    #axes[c].set_xlabel(\"Log-likelihood\")\n",
    "    axes[c].set_xlim(minv,maxv)\n",
    "    axes[c].set_title(titles[c])\n",
    "    c += 1"
   ]
  },
  {
   "cell_type": "code",
   "execution_count": null,
   "metadata": {},
   "outputs": [],
   "source": []
  },
  {
   "cell_type": "code",
   "execution_count": 90,
   "metadata": {},
   "outputs": [
    {
     "data": {
      "text/plain": [
       "176"
      ]
     },
     "execution_count": 90,
     "metadata": {},
     "output_type": "execute_result"
    }
   ],
   "source": [
    "sum(neg[5]<-40)"
   ]
  },
  {
   "cell_type": "code",
   "execution_count": 91,
   "metadata": {},
   "outputs": [
    {
     "data": {
      "text/plain": [
       "(72369, 11)"
      ]
     },
     "execution_count": 91,
     "metadata": {},
     "output_type": "execute_result"
    }
   ],
   "source": [
    "neg.shape"
   ]
  },
  {
   "cell_type": "code",
   "execution_count": 58,
   "metadata": {},
   "outputs": [
    {
     "data": {
      "text/plain": [
       "True"
      ]
     },
     "execution_count": 58,
     "metadata": {},
     "output_type": "execute_result"
    }
   ],
   "source": [
    "abs(40)>10"
   ]
  },
  {
   "cell_type": "code",
   "execution_count": null,
   "metadata": {},
   "outputs": [],
   "source": []
  }
 ],
 "metadata": {
  "kernelspec": {
   "display_name": "Python 3",
   "language": "python",
   "name": "python3"
  },
  "language_info": {
   "codemirror_mode": {
    "name": "ipython",
    "version": 3
   },
   "file_extension": ".py",
   "mimetype": "text/x-python",
   "name": "python",
   "nbconvert_exporter": "python",
   "pygments_lexer": "ipython3",
   "version": "3.7.4"
  }
 },
 "nbformat": 4,
 "nbformat_minor": 1
}
